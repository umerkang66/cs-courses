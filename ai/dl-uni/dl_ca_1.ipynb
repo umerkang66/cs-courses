{
  "cells": [
    {
      "cell_type": "markdown",
      "metadata": {
        "id": "HsZRWnQNIXwL"
      },
      "source": [
        "## Exercise 1.01: Image and Speech Recognition Demo\n",
        "\n",
        "This exercise introduces students to the practical application of deep learning by:\n",
        "\n",
        "- Using a pre-trained model (ResNet50) for image classification\n",
        "- Converting text output into speech using the Google Text-to-Speech (gTTS) API\n",
        "- Demonstrating how deep learning models can be integrated into real-world applications with minimal code\n"
      ]
    },
    {
      "cell_type": "code",
      "execution_count": 1,
      "metadata": {
        "id": "9w-vKlYKIqtn"
      },
      "outputs": [],
      "source": [
        "from tensorflow.keras.applications.resnet50 import (\n",
        "    ResNet50,\n",
        "    preprocess_input,\n",
        "    decode_predictions,\n",
        ")\n",
        "from tensorflow.keras.preprocessing import image\n",
        "import numpy as np"
      ]
    },
    {
      "cell_type": "code",
      "execution_count": null,
      "metadata": {
        "id": "ekoFBcpjIwQL"
      },
      "outputs": [
        {
          "name": "stdout",
          "output_type": "stream",
          "text": [
            "Downloading data from https://storage.googleapis.com/tensorflow/keras-applications/resnet/resnet50_weights_tf_dim_ordering_tf_kernels.h5\n",
            "\u001b[1m 46743552/102967424\u001b[0m \u001b[32m━━━━━━━━━\u001b[0m\u001b[37m━━━━━━━━━━━\u001b[0m \u001b[1m25s\u001b[0m 0us/step"
          ]
        }
      ],
      "source": [
        "model = ResNet50(weights=\"imagenet\")"
      ]
    },
    {
      "cell_type": "code",
      "execution_count": null,
      "metadata": {
        "id": "YwSWe-kpI0st"
      },
      "outputs": [],
      "source": [
        "img_path = \"house.webp\"  # change this to any local image file"
      ]
    },
    {
      "cell_type": "code",
      "execution_count": 9,
      "metadata": {
        "id": "luOAxEosJJBK"
      },
      "outputs": [],
      "source": [
        "img = image.load_img(img_path, target_size=(224, 224))\n",
        "x = image.img_to_array(img)\n",
        "x = np.expand_dims(x, axis=0)\n",
        "x = preprocess_input(x)"
      ]
    },
    {
      "cell_type": "code",
      "execution_count": null,
      "metadata": {
        "colab": {
          "base_uri": "https://localhost:8080/"
        },
        "id": "O3GZ-QDYJWX3",
        "outputId": "b4eef0ba-0b3f-40b5-a4d3-b87cd04d5634"
      },
      "outputs": [
        {
          "name": "stdout",
          "output_type": "stream",
          "text": [
            "\u001b[1m1/1\u001b[0m \u001b[32m━━━━━━━━━━━━━━━━━━━━\u001b[0m\u001b[37m\u001b[0m \u001b[1m1s\u001b[0m 1s/step\n",
            "Downloading data from https://storage.googleapis.com/download.tensorflow.org/data/imagenet_class_index.json\n",
            "\u001b[1m35363/35363\u001b[0m \u001b[32m━━━━━━━━━━━━━━━━━━━━\u001b[0m\u001b[37m\u001b[0m \u001b[1m0s\u001b[0m 0us/step\n",
            "Top Predictions:\n",
            "1: mosque (0.11)\n",
            "2: cinema (0.10)\n",
            "3: recreational_vehicle (0.09)\n"
          ]
        }
      ],
      "source": [
        "# Predict the image class\n",
        "predictions = model.predict(x)\n",
        "\n",
        "# Decode the top-3 predictions\n",
        "decoded_predictions = decode_predictions(predictions, top=3)[0]\n",
        "\n",
        "print(\"Top Predictions:\")\n",
        "for i, (imagenet_id, label, score) in enumerate(decoded_predictions):\n",
        "    print(f\"{i+1}: {label} ({score:.2f})\")\n",
        "\n",
        "# Get the top predicted label\n",
        "top_label = decoded_predictions[0][1]"
      ]
    },
    {
      "cell_type": "code",
      "execution_count": null,
      "metadata": {
        "colab": {
          "base_uri": "https://localhost:8080/"
        },
        "id": "3JASh5grJpm4",
        "outputId": "e860db8a-2ace-4f84-8e91-28abeb952ef9"
      },
      "outputs": [
        {
          "name": "stdout",
          "output_type": "stream",
          "text": [
            "Speech saved as prediction.mp3 — play it to hear the result!\n"
          ]
        }
      ],
      "source": [
        "from gtts import gTTS\n",
        "\n",
        "# Create a text description\n",
        "text = f\"This image looks like a {top_label}.\"\n",
        "\n",
        "# Convert text to speech\n",
        "tts = gTTS(text)\n",
        "tts.save(\"prediction.mp3\")\n",
        "\n",
        "print(\"Speech saved as prediction.mp3 — play it to hear the result!\")"
      ]
    },
    {
      "cell_type": "code",
      "execution_count": null,
      "metadata": {
        "colab": {
          "base_uri": "https://localhost:8080/"
        },
        "id": "gOerWpjeJ07V",
        "outputId": "d34807ff-fcb4-42d9-8764-13e2a6f006a6"
      },
      "outputs": [
        {
          "name": "stdout",
          "output_type": "stream",
          "text": [
            "\u001b[1m1/1\u001b[0m \u001b[32m━━━━━━━━━━━━━━━━━━━━\u001b[0m\u001b[37m\u001b[0m \u001b[1m1s\u001b[0m 1s/step\n",
            "Prediction: mosque (speech saved as result.mp3)\n"
          ]
        }
      ],
      "source": [
        "from tensorflow.keras.applications.resnet50 import (\n",
        "    ResNet50,\n",
        "    preprocess_input,\n",
        "    decode_predictions,\n",
        ")\n",
        "from tensorflow.keras.preprocessing import image\n",
        "import numpy as np\n",
        "from gtts import gTTS\n",
        "\n",
        "# Load model\n",
        "model = ResNet50(weights=\"imagenet\")\n",
        "\n",
        "# Load and preprocess image\n",
        "img = image.load_img(img_path, target_size=(224, 224))\n",
        "x = np.expand_dims(image.img_to_array(img), axis=0)\n",
        "x = preprocess_input(x)\n",
        "\n",
        "# Predict and decode\n",
        "pred = model.predict(x)\n",
        "label = decode_predictions(pred, top=1)[0][0][1]\n",
        "\n",
        "# Convert to speech\n",
        "tts = gTTS(f\"This image looks like a {label}.\")\n",
        "tts.save(\"result.mp3\")\n",
        "print(f\"Prediction: {label} (speech saved as result.mp3)\")"
      ]
    },
    {
      "cell_type": "markdown",
      "metadata": {
        "id": "oeMQVRR0LA6K"
      },
      "source": [
        "## Exercise 1.02: Implementing a Mathematical Equation\n",
        "\n",
        "This exercise aims to familiarize students with TensorFlow syntax and operations by:\n",
        "\n",
        "- Defining and using variables and constants\n",
        "- Implementing a simple mathematical function in TensorFlow\n",
        "- Executing and printing results within a Jupyter Notebook environment\n"
      ]
    },
    {
      "cell_type": "code",
      "execution_count": 15,
      "metadata": {
        "id": "amHTCkN3LMAT"
      },
      "outputs": [],
      "source": [
        "import tensorflow as tf"
      ]
    },
    {
      "cell_type": "code",
      "execution_count": null,
      "metadata": {
        "colab": {
          "base_uri": "https://localhost:8080/"
        },
        "id": "AWdhfui4LC92",
        "outputId": "fb39c1aa-e59d-4ddb-be67-a7fa03d5010a"
      },
      "outputs": [
        {
          "name": "stdout",
          "output_type": "stream",
          "text": [
            "Value of y: 66.0\n"
          ]
        }
      ],
      "source": [
        "# Step 1: Define constants\n",
        "a = tf.constant(2.0)\n",
        "b = tf.constant(3.0)\n",
        "c = tf.constant(1.0)\n",
        "\n",
        "# Step 2: Define a variable\n",
        "x = tf.Variable(5.0)\n",
        "\n",
        "# Step 3: Define the mathematical equation y = a*x^2 + b*x + c\n",
        "y = a * tf.pow(x, 2) + b * x + c\n",
        "\n",
        "# Step 4: Print the result\n",
        "print(\"Value of y:\", y.numpy())"
      ]
    },
    {
      "cell_type": "code",
      "execution_count": 17,
      "metadata": {
        "colab": {
          "base_uri": "https://localhost:8080/"
        },
        "id": "51E8lM0KLTGb",
        "outputId": "b092ed06-5bd1-491e-91ac-5f234b3117ed"
      },
      "outputs": [
        {
          "name": "stdout",
          "output_type": "stream",
          "text": [
            "x = 0, y = 1.0\n",
            "x = 2, y = 15.0\n",
            "x = 4, y = 45.0\n",
            "x = 6, y = 91.0\n"
          ]
        }
      ],
      "source": [
        "for val in [0, 2, 4, 6]:\n",
        "    x = tf.constant(val, dtype=tf.float32)\n",
        "    y = a * tf.pow(x, 2) + b * x + c\n",
        "    print(f\"x = {val}, y = {y.numpy()}\")"
      ]
    },
    {
      "cell_type": "markdown",
      "metadata": {
        "id": "PIX8EOStL6Fl"
      },
      "source": [
        "## Exercise 1.03: Matrix Multiplication Using TensorFlow\n",
        "\n",
        "This exercise reinforces understanding of linear algebra in deep learning by:\n",
        "\n",
        "- Performing matrix multiplication using tf.matmul()\n",
        "- Observing how the order of multiplication affects results\n",
        "- Practicing TensorFlow operations with multi-dimensional tensors\n"
      ]
    },
    {
      "cell_type": "code",
      "execution_count": null,
      "metadata": {
        "colab": {
          "base_uri": "https://localhost:8080/"
        },
        "id": "e0_kxRgMLxsz",
        "outputId": "4e766ac2-6be1-47c8-bbee-0033d05e3d19"
      },
      "outputs": [
        {
          "name": "stdout",
          "output_type": "stream",
          "text": [
            "Matrix A:\n",
            " [[1. 2. 3.]\n",
            " [4. 5. 6.]]\n",
            "Matrix B:\n",
            " [[ 7.  8.]\n",
            " [ 9. 10.]\n",
            " [11. 12.]]\n",
            "\n",
            "A x B =\n",
            " [[ 58.  64.]\n",
            " [139. 154.]]\n",
            "\n",
            "B x A =\n",
            " [[ 39.  54.  69.]\n",
            " [ 49.  68.  87.]\n",
            " [ 59.  82. 105.]]\n"
          ]
        }
      ],
      "source": [
        "# Step 1: Define two matrices (2x3 and 3x2)\n",
        "A = tf.constant([[1, 2, 3], [4, 5, 6]], dtype=tf.float32)\n",
        "\n",
        "B = tf.constant([[7, 8], [9, 10], [11, 12]], dtype=tf.float32)\n",
        "\n",
        "# Step 2: Perform matrix multiplication A * B\n",
        "result1 = tf.matmul(A, B)\n",
        "\n",
        "# Step 3: Perform multiplication in reverse order B * A\n",
        "result2 = tf.matmul(B, A)\n",
        "\n",
        "# Step 4: Print results\n",
        "print(\"Matrix A:\\n\", A.numpy())\n",
        "print(\"Matrix B:\\n\", B.numpy())\n",
        "\n",
        "print(\"\\nA x B =\\n\", result1.numpy())\n",
        "print(\"\\nB x A =\\n\", result2.numpy())"
      ]
    },
    {
      "cell_type": "markdown",
      "metadata": {
        "id": "N2w6kXGEL9CG"
      },
      "source": [
        "## Exercise 1.04: Reshaping Matrices Using the Reshape Function\n",
        "\n",
        "This exercise teaches students how to manipulate tensor shapes using:\n",
        "\n",
        "- The tf.reshape() function to change tensor dimensions\n",
        "- Understanding how reshaping affects tensor rank and structure\n",
        "- Applying reshaping to prepare data for neural network input\n"
      ]
    },
    {
      "cell_type": "code",
      "execution_count": null,
      "metadata": {
        "colab": {
          "base_uri": "https://localhost:8080/"
        },
        "id": "-Q07BRwTL-0K",
        "outputId": "e48847d7-cf98-4279-e75c-613bb4402905"
      },
      "outputs": [
        {
          "name": "stdout",
          "output_type": "stream",
          "text": [
            "Original Tensor:\n",
            "[[1 2 3]\n",
            " [4 5 6]]\n",
            "Shape: (2, 3)\n",
            "\n",
            "Reshaped Tensor (3x2):\n",
            "[[1 2]\n",
            " [3 4]\n",
            " [5 6]]\n",
            "Shape: (3, 2)\n",
            "\n",
            "Flattened Tensor (1D):\n",
            "[1 2 3 4 5 6]\n",
            "Shape: (6,)\n",
            "\n",
            "Reshaped Tensor (1x2x3):\n",
            "[[[1 2 3]\n",
            "  [4 5 6]]]\n",
            "Shape: (1, 2, 3)\n"
          ]
        }
      ],
      "source": [
        "# Step 1: Create a 2x3 matrix (rank 2 tensor)\n",
        "tensor = tf.constant([[1, 2, 3], [4, 5, 6]], dtype=tf.int32)\n",
        "\n",
        "print(\"Original Tensor:\")\n",
        "print(tensor.numpy())\n",
        "print(\"Shape:\", tensor.shape)\n",
        "\n",
        "# Step 2: Reshape into a 3x2 matrix\n",
        "reshaped_3x2 = tf.reshape(tensor, (3, 2))\n",
        "print(\"\\nReshaped Tensor (3x2):\")\n",
        "print(reshaped_3x2.numpy())\n",
        "print(\"Shape:\", reshaped_3x2.shape)\n",
        "\n",
        "# Step 3: Reshape into a 1D vector (flatten)\n",
        "flattened = tf.reshape(tensor, (-1,))\n",
        "print(\"\\nFlattened Tensor (1D):\")\n",
        "print(flattened.numpy())\n",
        "print(\"Shape:\", flattened.shape)\n",
        "\n",
        "# Step 4: Reshape into a 3D tensor (1, 2, 3)\n",
        "reshaped_3d = tf.reshape(tensor, (1, 2, 3))\n",
        "print(\"\\nReshaped Tensor (1x2x3):\")\n",
        "print(reshaped_3d.numpy())\n",
        "print(\"Shape:\", reshaped_3d.shape)"
      ]
    },
    {
      "cell_type": "markdown",
      "metadata": {
        "id": "fkPrjuWCQeJw"
      },
      "source": [
        "## Exercise 1.05: Implementing the Argmax Function\n",
        "\n",
        "This exercise helps students understand and use the argmax function for:\n",
        "\n",
        "- Finding the index of the maximum value along a specified axis\n",
        "- Applying argmax in both row-wise and column-wise contexts\n",
        "- Preparing for classification tasks in later chapters\n"
      ]
    },
    {
      "cell_type": "code",
      "execution_count": null,
      "metadata": {
        "colab": {
          "base_uri": "https://localhost:8080/"
        },
        "id": "1JnD89CPQfaG",
        "outputId": "2392a417-9515-4a25-81fc-b41aaa65750c"
      },
      "outputs": [
        {
          "name": "stdout",
          "output_type": "stream",
          "text": [
            "Tensor:\n",
            "[[10. 25.  5.]\n",
            " [40. 15. 30.]\n",
            " [22. 28. 12.]]\n",
            "\n",
            "Row-wise Argmax (axis=1):\n",
            "[1 0 1]\n",
            "\n",
            "Column-wise Argmax (axis=0):\n",
            "[1 2 1]\n"
          ]
        }
      ],
      "source": [
        "# Step 1: Create a sample 2D tensor (matrix)\n",
        "tensor = tf.constant([[10, 25, 5], [40, 15, 30], [22, 28, 12]], dtype=tf.float32)\n",
        "\n",
        "print(\"Tensor:\")\n",
        "print(tensor.numpy())\n",
        "\n",
        "# Step 2: Apply argmax row-wise (axis = 1)\n",
        "# Finds index of max value in each row\n",
        "row_wise_max = tf.argmax(tensor, axis=1)\n",
        "print(\"\\nRow-wise Argmax (axis=1):\")\n",
        "print(row_wise_max.numpy())\n",
        "\n",
        "# Step 3: Apply argmax column-wise (axis = 0)\n",
        "# Finds index of max value in each column\n",
        "column_wise_max = tf.argmax(tensor, axis=0)\n",
        "print(\"\\nColumn-wise Argmax (axis=0):\")\n",
        "print(column_wise_max.numpy())"
      ]
    },
    {
      "cell_type": "markdown",
      "metadata": {
        "id": "ryU1eDX8RMhz"
      },
      "source": [
        "## Exercise 1.06: Using an Optimizer for Simple Linear Regression\n",
        "\n",
        "This exercise introduces the concept of optimization in training models by:\n",
        "\n",
        "- Defining a linear regression model and a loss function\n",
        "- Using the Adam optimizer to minimize loss and update parameters\n",
        "- Observing how model parameters evolve during training to fit the data\n"
      ]
    },
    {
      "cell_type": "code",
      "execution_count": null,
      "metadata": {
        "colab": {
          "base_uri": "https://localhost:8080/"
        },
        "id": "aR9zr0G8ROi9",
        "outputId": "ff42838a-a684-4b1e-fae3-49afde6df58b"
      },
      "outputs": [
        {
          "name": "stdout",
          "output_type": "stream",
          "text": [
            "Epoch 000: Loss = 102.7500, w = 0.6000, b = 0.1000\n",
            "Epoch 010: Loss = 35.7158, w = 1.5743, b = 1.0741\n",
            "Epoch 020: Loss = 5.6016, w = 2.4049, b = 1.9025\n",
            "Epoch 030: Loss = 0.0297, w = 2.9406, b = 2.4312\n",
            "Epoch 040: Loss = 0.9395, w = 3.1233, b = 2.6008\n",
            "Epoch 050: Loss = 0.5886, w = 3.0628, b = 2.5229\n",
            "Epoch 060: Loss = 0.0637, w = 2.9388, b = 2.3799\n",
            "Epoch 070: Loss = 0.0388, w = 2.8703, b = 2.2922\n",
            "Epoch 080: Loss = 0.0454, w = 2.8737, b = 2.2764\n",
            "Epoch 090: Loss = 0.0189, w = 2.9059, b = 2.2893\n"
          ]
        }
      ],
      "source": [
        "# Step 1: Create synthetic training data\n",
        "# y = 3x + 2 (true relationship)\n",
        "X = tf.constant([1.0, 2.0, 3.0, 4.0, 5.0])\n",
        "Y = 3 * X + 2\n",
        "\n",
        "# Step 2: Initialize model parameters (trainable)\n",
        "w = tf.Variable(0.5)\n",
        "b = tf.Variable(0.0)\n",
        "\n",
        "\n",
        "# Step 3: Define the linear model\n",
        "def model(x):\n",
        "    return w * x + b\n",
        "\n",
        "\n",
        "# Step 4: Define the loss function (Mean Squared Error)\n",
        "def loss_fn(y_true, y_pred):\n",
        "    return tf.reduce_mean(tf.square(y_true - y_pred))\n",
        "\n",
        "\n",
        "# Step 5: Choose the optimizer (Adam)\n",
        "optimizer = tf.keras.optimizers.Adam(learning_rate=0.1)\n",
        "\n",
        "# Step 6: Training loop\n",
        "for epoch in range(100):\n",
        "    with tf.GradientTape() as tape:\n",
        "        y_pred = model(X)\n",
        "        loss = loss_fn(Y, y_pred)\n",
        "\n",
        "    # Compute gradients\n",
        "    gradients = tape.gradient(loss, [w, b])\n",
        "\n",
        "    # Update parameters\n",
        "    optimizer.apply_gradients(zip(gradients, [w, b]))\n",
        "\n",
        "    # Print progress every 10 epochs\n",
        "    if epoch % 10 == 0:\n",
        "        print(\n",
        "            f\"Epoch {epoch:03d}: Loss = {loss.numpy():.4f}, w = {w.numpy():.4f}, b = {b.numpy():.4f}\"\n",
        "        )"
      ]
    },
    {
      "cell_type": "markdown",
      "metadata": {
        "id": "3dYy2XrqSNVA"
      },
      "source": [
        "## Activity 1.01: Solving a Quadratic Equation Using an Optimizer\n",
        "\n",
        "This activity applies optimization techniques to solve mathematical problems by:\n",
        "\n",
        "- Formulating a quadratic equation as a loss function\n",
        "- Using an optimizer to find the root of the equation\n",
        "- Reinforcing the concept that optimizers can be used beyond traditional model training\n"
      ]
    },
    {
      "cell_type": "code",
      "execution_count": null,
      "metadata": {
        "colab": {
          "base_uri": "https://localhost:8080/"
        },
        "id": "vCuDmjyrSOi8",
        "outputId": "a2694844-fb2e-46b9-844e-5fb4d99c8087"
      },
      "outputs": [
        {
          "name": "stdout",
          "output_type": "stream",
          "text": [
            "Step 000: x = 0.1000, f(x) = 1.7100\n",
            "Step 010: x = 0.9094, f(x) = 0.0988\n",
            "Step 020: x = 1.2515, f(x) = -0.1882\n",
            "Step 030: x = 1.3519, f(x) = -0.2281\n",
            "Step 040: x = 1.3624, f(x) = -0.2311\n",
            "Step 050: x = 1.3358, f(x) = -0.2230\n",
            "Step 060: x = 1.2868, f(x) = -0.2045\n",
            "Step 070: x = 1.2186, f(x) = -0.1708\n",
            "Step 080: x = 1.1358, f(x) = -0.1174\n",
            "Step 090: x = 1.0531, f(x) = -0.0503\n",
            "\n",
            "Estimated Root: 0.9994814\n"
          ]
        }
      ],
      "source": [
        "# Step 1: Define constants for the quadratic equation ax² + bx + c = 0\n",
        "a = tf.constant(1.0)\n",
        "b = tf.constant(-3.0)\n",
        "c = tf.constant(2.0)\n",
        "\n",
        "# Step 2: Initialize a variable x (our guess for the root)\n",
        "x = tf.Variable(0.0)\n",
        "\n",
        "\n",
        "# Step 3: Define the quadratic function\n",
        "def f(x):\n",
        "    return a * tf.pow(x, 2) + b * x + c\n",
        "\n",
        "\n",
        "# Step 4: Define the loss function as the square of f(x)\n",
        "def loss_fn():\n",
        "    return tf.square(f(x))\n",
        "\n",
        "\n",
        "# Step 5: Choose an optimizer (Adam)\n",
        "optimizer = tf.keras.optimizers.Adam(learning_rate=0.1)\n",
        "\n",
        "# Step 6: Optimization loop\n",
        "for step in range(100):\n",
        "    with tf.GradientTape() as tape:\n",
        "        loss = loss_fn()\n",
        "\n",
        "    # Compute gradients\n",
        "    gradients = tape.gradient(loss, [x])\n",
        "\n",
        "    # Apply gradients\n",
        "    optimizer.apply_gradients(zip(gradients, [x]))\n",
        "\n",
        "    if step % 10 == 0:\n",
        "        print(f\"Step {step:03d}: x = {x.numpy():.4f}, f(x) = {f(x).numpy():.4f}\")\n",
        "\n",
        "print(\"\\nEstimated Root:\", x.numpy())"
      ]
    }
  ],
  "metadata": {
    "colab": {
      "provenance": []
    },
    "kernelspec": {
      "display_name": "base",
      "language": "python",
      "name": "python3"
    },
    "language_info": {
      "codemirror_mode": {
        "name": "ipython",
        "version": 3
      },
      "file_extension": ".py",
      "mimetype": "text/x-python",
      "name": "python",
      "nbconvert_exporter": "python",
      "pygments_lexer": "ipython3",
      "version": "3.12.7"
    }
  },
  "nbformat": 4,
  "nbformat_minor": 0
}
