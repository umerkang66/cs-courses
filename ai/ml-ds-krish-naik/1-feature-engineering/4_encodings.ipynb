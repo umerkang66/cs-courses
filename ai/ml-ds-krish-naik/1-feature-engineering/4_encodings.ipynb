{
 "cells": [
  {
   "cell_type": "markdown",
   "id": "94719c79",
   "metadata": {},
   "source": [
    "# Data Encoding Techniques in Machine Learning\n",
    "\n",
    "In this notebook, we will explore three common types of data encoding used in machine learning:\n",
    "\n",
    "1. **Label Encoding**\n",
    "2. **One-Hot Encoding**\n",
    "3. **Ordinal Encoding**\n",
    "\n",
    "Encoding categorical variables is an essential step in preparing data for machine learning algorithms, as most algorithms require numerical input.\n"
   ]
  },
  {
   "cell_type": "markdown",
   "id": "a03f1af8",
   "metadata": {},
   "source": [
    "## Import Required Libraries\n",
    "\n",
    "Let's start by importing the necessary libraries for data encoding.\n"
   ]
  },
  {
   "cell_type": "code",
   "execution_count": 1,
   "id": "4e06c386",
   "metadata": {},
   "outputs": [],
   "source": [
    "import pandas as pd\n",
    "from sklearn.preprocessing import LabelEncoder, OneHotEncoder, OrdinalEncoder"
   ]
  },
  {
   "cell_type": "markdown",
   "id": "956c8e6d",
   "metadata": {},
   "source": [
    "## 1. Label Encoding\n",
    "\n",
    "**Label Encoding** converts each value in a categorical column into a unique integer. It is useful for ordinal data, but can introduce unintended order for nominal data.\n",
    "\n",
    "**Example:**\n",
    "Suppose we have a column of colors: `['red', 'green', 'blue', 'green']`. Label encoding will assign an integer to each unique value.\n"
   ]
  },
  {
   "cell_type": "code",
   "execution_count": 2,
   "id": "48c0c918",
   "metadata": {},
   "outputs": [
    {
     "name": "stdout",
     "output_type": "stream",
     "text": [
      "   Color  Color_encoded\n",
      "0    red              2\n",
      "1  green              1\n",
      "2   blue              0\n",
      "3  green              1\n",
      "4    red              2\n",
      "Label mapping: {'blue': 0, 'green': 1, 'red': 2}\n"
     ]
    }
   ],
   "source": [
    "# Sample data\n",
    "df = pd.DataFrame({\"Color\": [\"red\", \"green\", \"blue\", \"green\", \"red\"]})\n",
    "\n",
    "# Apply Label Encoding\n",
    "le = LabelEncoder()\n",
    "df[\"Color_encoded\"] = le.fit_transform(df[\"Color\"])\n",
    "print(df)\n",
    "print(\"Label mapping:\", dict(zip(le.classes_, le.transform(le.classes_))))"
   ]
  },
  {
   "cell_type": "markdown",
   "id": "a202c6db",
   "metadata": {},
   "source": [
    "## 2. One-Hot Encoding\n",
    "\n",
    "**One-Hot Encoding** creates a new binary column for each category in the original column. Each row has a 1 in the column corresponding to its category and 0 elsewhere.\n",
    "\n",
    "This method is suitable for nominal (unordered) categorical data.\n"
   ]
  },
  {
   "cell_type": "code",
   "execution_count": 8,
   "id": "d91734ee",
   "metadata": {},
   "outputs": [
    {
     "name": "stdout",
     "output_type": "stream",
     "text": [
      "One-Hot Encoding with pandas:\n",
      "    Blue  Green    Red\n",
      "0  False  False   True\n",
      "1   True  False  False\n",
      "2  False   True  False\n",
      "3  False  False   True\n",
      "\n",
      "One-Hot Encoding with sklearn:\n",
      "   Blue  Green  Red\n",
      "0   0.0    0.0  1.0\n",
      "1   1.0    0.0  0.0\n",
      "2   0.0    1.0  0.0\n",
      "3   0.0    0.0  1.0\n"
     ]
    }
   ],
   "source": [
    "# Example DataFrame\n",
    "df = pd.DataFrame({\"Color\": [\"Red\", \"Blue\", \"Green\", \"Red\"]})\n",
    "\n",
    "# pandas get_dummies\n",
    "one_hot_df = pd.get_dummies(df[\"Color\"])\n",
    "print(\"One-Hot Encoding with pandas:\")\n",
    "print(one_hot_df)\n",
    "\n",
    "# sklearn OneHotEncoder\n",
    "encoder = OneHotEncoder()\n",
    "encoded = encoder.fit_transform(df[[\"Color\"]]).toarray()\n",
    "one_hot_sklearn = pd.DataFrame(encoded, columns=encoder.categories_[0])\n",
    "\n",
    "print(\"\\nOne-Hot Encoding with sklearn:\")\n",
    "print(one_hot_sklearn)"
   ]
  },
  {
   "cell_type": "markdown",
   "id": "4b1d5402",
   "metadata": {},
   "source": [
    "## 3. Ordinal Encoding\n",
    "\n",
    "**Ordinal Encoding** assigns each unique category an integer value, but unlike label encoding, it is specifically used for categorical variables with an inherent order (e.g., low < medium < high).\n",
    "\n",
    "This method is suitable for ordinal categorical data.\n"
   ]
  },
  {
   "cell_type": "code",
   "execution_count": 5,
   "id": "8e7378fb",
   "metadata": {},
   "outputs": [
    {
     "name": "stdout",
     "output_type": "stream",
     "text": [
      "     Size  Size_encoded\n",
      "0   Small           0.0\n",
      "1  Medium           1.0\n",
      "2   Large           2.0\n",
      "3  Medium           1.0\n",
      "4   Small           0.0\n"
     ]
    }
   ],
   "source": [
    "# Sample data for ordinal encoding\n",
    "sizes = [\"Small\", \"Medium\", \"Large\", \"Medium\", \"Small\"]\n",
    "df_ordinal = pd.DataFrame({\"Size\": sizes})\n",
    "\n",
    "# Define the order\n",
    "size_order = [\"Small\", \"Medium\", \"Large\"]\n",
    "\n",
    "# Apply Ordinal Encoding\n",
    "ordinal_encoder = OrdinalEncoder(categories=[size_order])\n",
    "df_ordinal[\"Size_encoded\"] = ordinal_encoder.fit_transform(df_ordinal[[\"Size\"]])\n",
    "print(df_ordinal)"
   ]
  },
  {
   "cell_type": "markdown",
   "id": "f4f9f8ac",
   "metadata": {},
   "source": [
    "## 4. Target Guided Ordinal Encoding\n",
    "\n",
    "**Target Guided Ordinal Encoding** is a technique where the categories are ordered based on the relationship with the target variable, usually by the mean of the target for each category. This is especially useful for categorical variables with a strong relationship to the target.\n",
    "\n",
    "Let's see an example using a simple dataset.\n"
   ]
  },
  {
   "cell_type": "code",
   "execution_count": 21,
   "id": "388bdabd",
   "metadata": {},
   "outputs": [
    {
     "name": "stdout",
     "output_type": "stream",
     "text": [
      "Mean Target by City:\n",
      "City\n",
      "A    123.333333\n",
      "B    220.000000\n",
      "C    310.000000\n",
      "Name: Target, dtype: float64\n",
      "\n",
      "DataFrame with Target Guided Ordinal Encoding:\n",
      "  City  Target  city_encoded\n",
      "0    A     100    123.333333\n",
      "1    B     200    220.000000\n",
      "2    A     150    123.333333\n",
      "3    C     300    310.000000\n",
      "4    B     250    220.000000\n",
      "5    A     120    123.333333\n",
      "6    C     320    310.000000\n",
      "7    B     210    220.000000\n",
      "8    C     310    310.000000\n"
     ]
    }
   ],
   "source": [
    "# Sample data for target guided ordinal encoding\n",
    "import numpy as np\n",
    "\n",
    "data = {\n",
    "    \"City\": [\"A\", \"B\", \"A\", \"C\", \"B\", \"A\", \"C\", \"B\", \"C\"],\n",
    "    \"Target\": [100, 200, 150, 300, 250, 120, 320, 210, 310],\n",
    "}\n",
    "df_tg = pd.DataFrame(data)\n",
    "\n",
    "# Calculate mean target for each category\n",
    "mean_city = df_tg.groupby(\"City\")[\"Target\"].mean().to_dict()\n",
    "df_tg[\"city_encoded\"] = df_tg[\"City\"].map(mean_city)\n",
    "\n",
    "print(\"Mean Target by City:\")\n",
    "print(df_tg.groupby(\"City\")[\"Target\"].mean())\n",
    "print(\"\\nDataFrame with Target Guided Ordinal Encoding:\")\n",
    "print(df_tg)"
   ]
  }
 ],
 "metadata": {
  "kernelspec": {
   "display_name": "base",
   "language": "python",
   "name": "python3"
  },
  "language_info": {
   "codemirror_mode": {
    "name": "ipython",
    "version": 3
   },
   "file_extension": ".py",
   "mimetype": "text/x-python",
   "name": "python",
   "nbconvert_exporter": "python",
   "pygments_lexer": "ipython3",
   "version": "3.12.7"
  }
 },
 "nbformat": 4,
 "nbformat_minor": 5
}
